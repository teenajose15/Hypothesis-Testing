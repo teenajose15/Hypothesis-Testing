{
 "cells": [
  {
   "cell_type": "markdown",
   "id": "a7284f6b",
   "metadata": {},
   "source": [
    "# Data Wrangling\n",
    "Loading in the user data, checking for cleanliness, and then trimming and cleaning the dataset for analysis."
   ]
  },
  {
   "cell_type": "code",
   "execution_count": 44,
   "id": "331e2b8a",
   "metadata": {},
   "outputs": [],
   "source": [
    "import numpy as np \n",
    "import pandas as pd \n",
    "import matplotlib.pyplot as plt \n",
    "import seaborn as sns "
   ]
  },
  {
   "cell_type": "code",
   "execution_count": 45,
   "id": "e9f3adb8",
   "metadata": {},
   "outputs": [],
   "source": [
    "df = pd.read_csv(r\"C:\\Users\\emilb\\OneDrive\\Desktop\\ScreenTime.csv\")"
   ]
  },
  {
   "cell_type": "code",
   "execution_count": 46,
   "id": "cbcc2cc3",
   "metadata": {},
   "outputs": [
    {
     "data": {
      "text/html": [
       "<div>\n",
       "<style scoped>\n",
       "    .dataframe tbody tr th:only-of-type {\n",
       "        vertical-align: middle;\n",
       "    }\n",
       "\n",
       "    .dataframe tbody tr th {\n",
       "        vertical-align: top;\n",
       "    }\n",
       "\n",
       "    .dataframe thead th {\n",
       "        text-align: right;\n",
       "    }\n",
       "</style>\n",
       "<table border=\"1\" class=\"dataframe\">\n",
       "  <thead>\n",
       "    <tr style=\"text-align: right;\">\n",
       "      <th></th>\n",
       "      <th>index</th>\n",
       "      <th>Date</th>\n",
       "      <th>Week Day</th>\n",
       "      <th>Total Screen Time</th>\n",
       "      <th>Social Networking</th>\n",
       "      <th>Reading and Reference</th>\n",
       "      <th>Other</th>\n",
       "      <th>Productivity</th>\n",
       "      <th>Health and Fitness</th>\n",
       "      <th>Entertainment</th>\n",
       "      <th>Creativity</th>\n",
       "      <th>Yoga</th>\n",
       "    </tr>\n",
       "  </thead>\n",
       "  <tbody>\n",
       "    <tr>\n",
       "      <th>0</th>\n",
       "      <td>0</td>\n",
       "      <td>4/17/2019</td>\n",
       "      <td>Wednesday</td>\n",
       "      <td>187</td>\n",
       "      <td>89</td>\n",
       "      <td>17</td>\n",
       "      <td>41</td>\n",
       "      <td>22</td>\n",
       "      <td>0</td>\n",
       "      <td>0</td>\n",
       "      <td>0</td>\n",
       "      <td>0</td>\n",
       "    </tr>\n",
       "    <tr>\n",
       "      <th>1</th>\n",
       "      <td>1</td>\n",
       "      <td>4/18/2019</td>\n",
       "      <td>Thursday</td>\n",
       "      <td>123</td>\n",
       "      <td>78</td>\n",
       "      <td>17</td>\n",
       "      <td>8</td>\n",
       "      <td>9</td>\n",
       "      <td>0</td>\n",
       "      <td>0</td>\n",
       "      <td>0</td>\n",
       "      <td>0</td>\n",
       "    </tr>\n",
       "    <tr>\n",
       "      <th>2</th>\n",
       "      <td>2</td>\n",
       "      <td>4/19/2019</td>\n",
       "      <td>Friday</td>\n",
       "      <td>112</td>\n",
       "      <td>52</td>\n",
       "      <td>40</td>\n",
       "      <td>8</td>\n",
       "      <td>4</td>\n",
       "      <td>0</td>\n",
       "      <td>3</td>\n",
       "      <td>0</td>\n",
       "      <td>0</td>\n",
       "    </tr>\n",
       "    <tr>\n",
       "      <th>3</th>\n",
       "      <td>3</td>\n",
       "      <td>4/20/2019</td>\n",
       "      <td>Saturday</td>\n",
       "      <td>101</td>\n",
       "      <td>69</td>\n",
       "      <td>9</td>\n",
       "      <td>38</td>\n",
       "      <td>2</td>\n",
       "      <td>0</td>\n",
       "      <td>3</td>\n",
       "      <td>0</td>\n",
       "      <td>0</td>\n",
       "    </tr>\n",
       "    <tr>\n",
       "      <th>4</th>\n",
       "      <td>4</td>\n",
       "      <td>4/21/2019</td>\n",
       "      <td>Sunday</td>\n",
       "      <td>56</td>\n",
       "      <td>35</td>\n",
       "      <td>2</td>\n",
       "      <td>43</td>\n",
       "      <td>3</td>\n",
       "      <td>0</td>\n",
       "      <td>1</td>\n",
       "      <td>1</td>\n",
       "      <td>0</td>\n",
       "    </tr>\n",
       "    <tr>\n",
       "      <th>5</th>\n",
       "      <td>5</td>\n",
       "      <td>4/22/2019</td>\n",
       "      <td>Monday</td>\n",
       "      <td>189</td>\n",
       "      <td>68</td>\n",
       "      <td>0</td>\n",
       "      <td>9</td>\n",
       "      <td>3</td>\n",
       "      <td>4</td>\n",
       "      <td>0</td>\n",
       "      <td>0</td>\n",
       "      <td>0</td>\n",
       "    </tr>\n",
       "    <tr>\n",
       "      <th>6</th>\n",
       "      <td>6</td>\n",
       "      <td>4/23/2019</td>\n",
       "      <td>Tuesday</td>\n",
       "      <td>158</td>\n",
       "      <td>56</td>\n",
       "      <td>18</td>\n",
       "      <td>41</td>\n",
       "      <td>12</td>\n",
       "      <td>15</td>\n",
       "      <td>0</td>\n",
       "      <td>0</td>\n",
       "      <td>0</td>\n",
       "    </tr>\n",
       "    <tr>\n",
       "      <th>7</th>\n",
       "      <td>7</td>\n",
       "      <td>4/24/2019</td>\n",
       "      <td>Wednesday</td>\n",
       "      <td>135</td>\n",
       "      <td>98</td>\n",
       "      <td>3</td>\n",
       "      <td>33</td>\n",
       "      <td>16</td>\n",
       "      <td>0</td>\n",
       "      <td>0</td>\n",
       "      <td>0</td>\n",
       "      <td>0</td>\n",
       "    </tr>\n",
       "    <tr>\n",
       "      <th>8</th>\n",
       "      <td>8</td>\n",
       "      <td>4/25/2019</td>\n",
       "      <td>Thursday</td>\n",
       "      <td>52</td>\n",
       "      <td>25</td>\n",
       "      <td>7</td>\n",
       "      <td>3</td>\n",
       "      <td>16</td>\n",
       "      <td>0</td>\n",
       "      <td>0</td>\n",
       "      <td>0</td>\n",
       "      <td>0</td>\n",
       "    </tr>\n",
       "    <tr>\n",
       "      <th>9</th>\n",
       "      <td>9</td>\n",
       "      <td>4/26/2019</td>\n",
       "      <td>Friday</td>\n",
       "      <td>198</td>\n",
       "      <td>76</td>\n",
       "      <td>8</td>\n",
       "      <td>29</td>\n",
       "      <td>15</td>\n",
       "      <td>0</td>\n",
       "      <td>32</td>\n",
       "      <td>0</td>\n",
       "      <td>0</td>\n",
       "    </tr>\n",
       "    <tr>\n",
       "      <th>10</th>\n",
       "      <td>10</td>\n",
       "      <td>4/27/2019</td>\n",
       "      <td>Saturday</td>\n",
       "      <td>116</td>\n",
       "      <td>75</td>\n",
       "      <td>10</td>\n",
       "      <td>20</td>\n",
       "      <td>5</td>\n",
       "      <td>0</td>\n",
       "      <td>0</td>\n",
       "      <td>0</td>\n",
       "      <td>0</td>\n",
       "    </tr>\n",
       "    <tr>\n",
       "      <th>11</th>\n",
       "      <td>11</td>\n",
       "      <td>4/28/2019</td>\n",
       "      <td>Sunday</td>\n",
       "      <td>85</td>\n",
       "      <td>42</td>\n",
       "      <td>22</td>\n",
       "      <td>4</td>\n",
       "      <td>2</td>\n",
       "      <td>0</td>\n",
       "      <td>0</td>\n",
       "      <td>0</td>\n",
       "      <td>0</td>\n",
       "    </tr>\n",
       "    <tr>\n",
       "      <th>12</th>\n",
       "      <td>12</td>\n",
       "      <td>4/29/2019</td>\n",
       "      <td>Monday</td>\n",
       "      <td>109</td>\n",
       "      <td>46</td>\n",
       "      <td>8</td>\n",
       "      <td>13</td>\n",
       "      <td>9</td>\n",
       "      <td>15</td>\n",
       "      <td>1</td>\n",
       "      <td>0</td>\n",
       "      <td>1</td>\n",
       "    </tr>\n",
       "    <tr>\n",
       "      <th>13</th>\n",
       "      <td>13</td>\n",
       "      <td>4/30/2019</td>\n",
       "      <td>Tuesday</td>\n",
       "      <td>79</td>\n",
       "      <td>40</td>\n",
       "      <td>2</td>\n",
       "      <td>9</td>\n",
       "      <td>12</td>\n",
       "      <td>0</td>\n",
       "      <td>0</td>\n",
       "      <td>0</td>\n",
       "      <td>1</td>\n",
       "    </tr>\n",
       "    <tr>\n",
       "      <th>14</th>\n",
       "      <td>14</td>\n",
       "      <td>5/1/2019</td>\n",
       "      <td>Wednesday</td>\n",
       "      <td>127</td>\n",
       "      <td>90</td>\n",
       "      <td>0</td>\n",
       "      <td>10</td>\n",
       "      <td>7</td>\n",
       "      <td>0</td>\n",
       "      <td>0</td>\n",
       "      <td>0</td>\n",
       "      <td>1</td>\n",
       "    </tr>\n",
       "    <tr>\n",
       "      <th>15</th>\n",
       "      <td>15</td>\n",
       "      <td>5/2/2019</td>\n",
       "      <td>Thursday</td>\n",
       "      <td>170</td>\n",
       "      <td>60</td>\n",
       "      <td>3</td>\n",
       "      <td>2</td>\n",
       "      <td>11</td>\n",
       "      <td>0</td>\n",
       "      <td>0</td>\n",
       "      <td>0</td>\n",
       "      <td>1</td>\n",
       "    </tr>\n",
       "    <tr>\n",
       "      <th>16</th>\n",
       "      <td>16</td>\n",
       "      <td>5/3/2019</td>\n",
       "      <td>Friday</td>\n",
       "      <td>91</td>\n",
       "      <td>64</td>\n",
       "      <td>2</td>\n",
       "      <td>18</td>\n",
       "      <td>5</td>\n",
       "      <td>1</td>\n",
       "      <td>1</td>\n",
       "      <td>2</td>\n",
       "      <td>1</td>\n",
       "    </tr>\n",
       "    <tr>\n",
       "      <th>17</th>\n",
       "      <td>17</td>\n",
       "      <td>5/4/2019</td>\n",
       "      <td>Saturday</td>\n",
       "      <td>58</td>\n",
       "      <td>34</td>\n",
       "      <td>4</td>\n",
       "      <td>5</td>\n",
       "      <td>3</td>\n",
       "      <td>0</td>\n",
       "      <td>1</td>\n",
       "      <td>0</td>\n",
       "      <td>1</td>\n",
       "    </tr>\n",
       "    <tr>\n",
       "      <th>18</th>\n",
       "      <td>18</td>\n",
       "      <td>5/5/2019</td>\n",
       "      <td>Sunday</td>\n",
       "      <td>133</td>\n",
       "      <td>109</td>\n",
       "      <td>5</td>\n",
       "      <td>1</td>\n",
       "      <td>3</td>\n",
       "      <td>0</td>\n",
       "      <td>0</td>\n",
       "      <td>0</td>\n",
       "      <td>1</td>\n",
       "    </tr>\n",
       "    <tr>\n",
       "      <th>19</th>\n",
       "      <td>19</td>\n",
       "      <td>5/6/2019</td>\n",
       "      <td>Monday</td>\n",
       "      <td>144</td>\n",
       "      <td>81</td>\n",
       "      <td>4</td>\n",
       "      <td>5</td>\n",
       "      <td>3</td>\n",
       "      <td>0</td>\n",
       "      <td>0</td>\n",
       "      <td>0</td>\n",
       "      <td>1</td>\n",
       "    </tr>\n",
       "    <tr>\n",
       "      <th>20</th>\n",
       "      <td>20</td>\n",
       "      <td>5/7/2019</td>\n",
       "      <td>Tuesday</td>\n",
       "      <td>110</td>\n",
       "      <td>70</td>\n",
       "      <td>5</td>\n",
       "      <td>6</td>\n",
       "      <td>15</td>\n",
       "      <td>0</td>\n",
       "      <td>9</td>\n",
       "      <td>0</td>\n",
       "      <td>1</td>\n",
       "    </tr>\n",
       "    <tr>\n",
       "      <th>21</th>\n",
       "      <td>21</td>\n",
       "      <td>5/8/2019</td>\n",
       "      <td>Wednesday</td>\n",
       "      <td>122</td>\n",
       "      <td>53</td>\n",
       "      <td>25</td>\n",
       "      <td>26</td>\n",
       "      <td>15</td>\n",
       "      <td>0</td>\n",
       "      <td>0</td>\n",
       "      <td>0</td>\n",
       "      <td>1</td>\n",
       "    </tr>\n",
       "    <tr>\n",
       "      <th>22</th>\n",
       "      <td>22</td>\n",
       "      <td>5/9/2019</td>\n",
       "      <td>Thursday</td>\n",
       "      <td>96</td>\n",
       "      <td>42</td>\n",
       "      <td>15</td>\n",
       "      <td>16</td>\n",
       "      <td>19</td>\n",
       "      <td>0</td>\n",
       "      <td>0</td>\n",
       "      <td>0</td>\n",
       "      <td>1</td>\n",
       "    </tr>\n",
       "    <tr>\n",
       "      <th>23</th>\n",
       "      <td>23</td>\n",
       "      <td>5/10/2019</td>\n",
       "      <td>Friday</td>\n",
       "      <td>161</td>\n",
       "      <td>93</td>\n",
       "      <td>13</td>\n",
       "      <td>17</td>\n",
       "      <td>16</td>\n",
       "      <td>1</td>\n",
       "      <td>0</td>\n",
       "      <td>0</td>\n",
       "      <td>1</td>\n",
       "    </tr>\n",
       "    <tr>\n",
       "      <th>24</th>\n",
       "      <td>24</td>\n",
       "      <td>5/11/2019</td>\n",
       "      <td>Saturday</td>\n",
       "      <td>58</td>\n",
       "      <td>49</td>\n",
       "      <td>1</td>\n",
       "      <td>2</td>\n",
       "      <td>2</td>\n",
       "      <td>0</td>\n",
       "      <td>0</td>\n",
       "      <td>2</td>\n",
       "      <td>1</td>\n",
       "    </tr>\n",
       "    <tr>\n",
       "      <th>25</th>\n",
       "      <td>25</td>\n",
       "      <td>5/12/2019</td>\n",
       "      <td>Sunday</td>\n",
       "      <td>52</td>\n",
       "      <td>28</td>\n",
       "      <td>1</td>\n",
       "      <td>1</td>\n",
       "      <td>6</td>\n",
       "      <td>0</td>\n",
       "      <td>0</td>\n",
       "      <td>1</td>\n",
       "      <td>1</td>\n",
       "    </tr>\n",
       "    <tr>\n",
       "      <th>26</th>\n",
       "      <td>26</td>\n",
       "      <td>5/13/2019</td>\n",
       "      <td>Monday</td>\n",
       "      <td>61</td>\n",
       "      <td>37</td>\n",
       "      <td>1</td>\n",
       "      <td>0</td>\n",
       "      <td>4</td>\n",
       "      <td>0</td>\n",
       "      <td>0</td>\n",
       "      <td>0</td>\n",
       "      <td>1</td>\n",
       "    </tr>\n",
       "    <tr>\n",
       "      <th>27</th>\n",
       "      <td>27</td>\n",
       "      <td>5/14/2019</td>\n",
       "      <td>Tuesday</td>\n",
       "      <td>88</td>\n",
       "      <td>41</td>\n",
       "      <td>2</td>\n",
       "      <td>7</td>\n",
       "      <td>15</td>\n",
       "      <td>0</td>\n",
       "      <td>0</td>\n",
       "      <td>0</td>\n",
       "      <td>1</td>\n",
       "    </tr>\n",
       "  </tbody>\n",
       "</table>\n",
       "</div>"
      ],
      "text/plain": [
       "    index       Date   Week Day  Total Screen Time   Social Networking  \\\n",
       "0       0  4/17/2019  Wednesday                 187                 89   \n",
       "1       1  4/18/2019   Thursday                 123                 78   \n",
       "2       2  4/19/2019     Friday                 112                 52   \n",
       "3       3  4/20/2019   Saturday                 101                 69   \n",
       "4       4  4/21/2019     Sunday                  56                 35   \n",
       "5       5  4/22/2019     Monday                 189                 68   \n",
       "6       6  4/23/2019    Tuesday                 158                 56   \n",
       "7       7  4/24/2019  Wednesday                 135                 98   \n",
       "8       8  4/25/2019   Thursday                  52                 25   \n",
       "9       9  4/26/2019     Friday                 198                 76   \n",
       "10     10  4/27/2019   Saturday                 116                 75   \n",
       "11     11  4/28/2019     Sunday                  85                 42   \n",
       "12     12  4/29/2019     Monday                 109                 46   \n",
       "13     13  4/30/2019    Tuesday                  79                 40   \n",
       "14     14   5/1/2019  Wednesday                 127                 90   \n",
       "15     15   5/2/2019   Thursday                 170                 60   \n",
       "16     16   5/3/2019     Friday                  91                 64   \n",
       "17     17   5/4/2019   Saturday                  58                 34   \n",
       "18     18   5/5/2019     Sunday                 133                109   \n",
       "19     19   5/6/2019     Monday                 144                 81   \n",
       "20     20   5/7/2019    Tuesday                 110                 70   \n",
       "21     21   5/8/2019  Wednesday                 122                 53   \n",
       "22     22   5/9/2019   Thursday                  96                 42   \n",
       "23     23  5/10/2019     Friday                 161                 93   \n",
       "24     24  5/11/2019   Saturday                  58                 49   \n",
       "25     25  5/12/2019     Sunday                  52                 28   \n",
       "26     26  5/13/2019     Monday                  61                 37   \n",
       "27     27  5/14/2019    Tuesday                  88                 41   \n",
       "\n",
       "    Reading and Reference  Other  Productivity  Health and Fitness  \\\n",
       "0                      17     41            22                   0   \n",
       "1                      17      8             9                   0   \n",
       "2                      40      8             4                   0   \n",
       "3                       9     38             2                   0   \n",
       "4                       2     43             3                   0   \n",
       "5                       0      9             3                   4   \n",
       "6                      18     41            12                  15   \n",
       "7                       3     33            16                   0   \n",
       "8                       7      3            16                   0   \n",
       "9                       8     29            15                   0   \n",
       "10                     10     20             5                   0   \n",
       "11                     22      4             2                   0   \n",
       "12                      8     13             9                  15   \n",
       "13                      2      9            12                   0   \n",
       "14                      0     10             7                   0   \n",
       "15                      3      2            11                   0   \n",
       "16                      2     18             5                   1   \n",
       "17                      4      5             3                   0   \n",
       "18                      5      1             3                   0   \n",
       "19                      4      5             3                   0   \n",
       "20                      5      6            15                   0   \n",
       "21                     25     26            15                   0   \n",
       "22                     15     16            19                   0   \n",
       "23                     13     17            16                   1   \n",
       "24                      1      2             2                   0   \n",
       "25                      1      1             6                   0   \n",
       "26                      1      0             4                   0   \n",
       "27                      2      7            15                   0   \n",
       "\n",
       "    Entertainment  Creativity  Yoga  \n",
       "0               0           0     0  \n",
       "1               0           0     0  \n",
       "2               3           0     0  \n",
       "3               3           0     0  \n",
       "4               1           1     0  \n",
       "5               0           0     0  \n",
       "6               0           0     0  \n",
       "7               0           0     0  \n",
       "8               0           0     0  \n",
       "9              32           0     0  \n",
       "10              0           0     0  \n",
       "11              0           0     0  \n",
       "12              1           0     1  \n",
       "13              0           0     1  \n",
       "14              0           0     1  \n",
       "15              0           0     1  \n",
       "16              1           2     1  \n",
       "17              1           0     1  \n",
       "18              0           0     1  \n",
       "19              0           0     1  \n",
       "20              9           0     1  \n",
       "21              0           0     1  \n",
       "22              0           0     1  \n",
       "23              0           0     1  \n",
       "24              0           2     1  \n",
       "25              0           1     1  \n",
       "26              0           0     1  \n",
       "27              0           0     1  "
      ]
     },
     "execution_count": 46,
     "metadata": {},
     "output_type": "execute_result"
    }
   ],
   "source": [
    "df"
   ]
  },
  {
   "cell_type": "code",
   "execution_count": 47,
   "id": "e771aca2",
   "metadata": {},
   "outputs": [
    {
     "data": {
      "text/html": [
       "<div>\n",
       "<style scoped>\n",
       "    .dataframe tbody tr th:only-of-type {\n",
       "        vertical-align: middle;\n",
       "    }\n",
       "\n",
       "    .dataframe tbody tr th {\n",
       "        vertical-align: top;\n",
       "    }\n",
       "\n",
       "    .dataframe thead th {\n",
       "        text-align: right;\n",
       "    }\n",
       "</style>\n",
       "<table border=\"1\" class=\"dataframe\">\n",
       "  <thead>\n",
       "    <tr style=\"text-align: right;\">\n",
       "      <th></th>\n",
       "      <th>index</th>\n",
       "      <th>Date</th>\n",
       "      <th>Week Day</th>\n",
       "      <th>Total Screen Time</th>\n",
       "      <th>Social Networking</th>\n",
       "      <th>Reading and Reference</th>\n",
       "      <th>Other</th>\n",
       "      <th>Productivity</th>\n",
       "      <th>Health and Fitness</th>\n",
       "      <th>Entertainment</th>\n",
       "      <th>Creativity</th>\n",
       "      <th>Yoga</th>\n",
       "    </tr>\n",
       "  </thead>\n",
       "  <tbody>\n",
       "    <tr>\n",
       "      <th>0</th>\n",
       "      <td>0</td>\n",
       "      <td>4/17/2019</td>\n",
       "      <td>Wednesday</td>\n",
       "      <td>187</td>\n",
       "      <td>89</td>\n",
       "      <td>17</td>\n",
       "      <td>41</td>\n",
       "      <td>22</td>\n",
       "      <td>0</td>\n",
       "      <td>0</td>\n",
       "      <td>0</td>\n",
       "      <td>0</td>\n",
       "    </tr>\n",
       "    <tr>\n",
       "      <th>1</th>\n",
       "      <td>1</td>\n",
       "      <td>4/18/2019</td>\n",
       "      <td>Thursday</td>\n",
       "      <td>123</td>\n",
       "      <td>78</td>\n",
       "      <td>17</td>\n",
       "      <td>8</td>\n",
       "      <td>9</td>\n",
       "      <td>0</td>\n",
       "      <td>0</td>\n",
       "      <td>0</td>\n",
       "      <td>0</td>\n",
       "    </tr>\n",
       "    <tr>\n",
       "      <th>2</th>\n",
       "      <td>2</td>\n",
       "      <td>4/19/2019</td>\n",
       "      <td>Friday</td>\n",
       "      <td>112</td>\n",
       "      <td>52</td>\n",
       "      <td>40</td>\n",
       "      <td>8</td>\n",
       "      <td>4</td>\n",
       "      <td>0</td>\n",
       "      <td>3</td>\n",
       "      <td>0</td>\n",
       "      <td>0</td>\n",
       "    </tr>\n",
       "    <tr>\n",
       "      <th>3</th>\n",
       "      <td>3</td>\n",
       "      <td>4/20/2019</td>\n",
       "      <td>Saturday</td>\n",
       "      <td>101</td>\n",
       "      <td>69</td>\n",
       "      <td>9</td>\n",
       "      <td>38</td>\n",
       "      <td>2</td>\n",
       "      <td>0</td>\n",
       "      <td>3</td>\n",
       "      <td>0</td>\n",
       "      <td>0</td>\n",
       "    </tr>\n",
       "    <tr>\n",
       "      <th>4</th>\n",
       "      <td>4</td>\n",
       "      <td>4/21/2019</td>\n",
       "      <td>Sunday</td>\n",
       "      <td>56</td>\n",
       "      <td>35</td>\n",
       "      <td>2</td>\n",
       "      <td>43</td>\n",
       "      <td>3</td>\n",
       "      <td>0</td>\n",
       "      <td>1</td>\n",
       "      <td>1</td>\n",
       "      <td>0</td>\n",
       "    </tr>\n",
       "  </tbody>\n",
       "</table>\n",
       "</div>"
      ],
      "text/plain": [
       "   index       Date   Week Day  Total Screen Time   Social Networking  \\\n",
       "0      0  4/17/2019  Wednesday                 187                 89   \n",
       "1      1  4/18/2019   Thursday                 123                 78   \n",
       "2      2  4/19/2019     Friday                 112                 52   \n",
       "3      3  4/20/2019   Saturday                 101                 69   \n",
       "4      4  4/21/2019     Sunday                  56                 35   \n",
       "\n",
       "   Reading and Reference  Other  Productivity  Health and Fitness  \\\n",
       "0                     17     41            22                   0   \n",
       "1                     17      8             9                   0   \n",
       "2                     40      8             4                   0   \n",
       "3                      9     38             2                   0   \n",
       "4                      2     43             3                   0   \n",
       "\n",
       "   Entertainment  Creativity  Yoga  \n",
       "0              0           0     0  \n",
       "1              0           0     0  \n",
       "2              3           0     0  \n",
       "3              3           0     0  \n",
       "4              1           1     0  "
      ]
     },
     "execution_count": 47,
     "metadata": {},
     "output_type": "execute_result"
    }
   ],
   "source": [
    "df.head()"
   ]
  },
  {
   "cell_type": "code",
   "execution_count": 48,
   "id": "6a144e24",
   "metadata": {},
   "outputs": [
    {
     "data": {
      "text/plain": [
       "(28, 12)"
      ]
     },
     "execution_count": 48,
     "metadata": {},
     "output_type": "execute_result"
    }
   ],
   "source": [
    "df.shape"
   ]
  },
  {
   "cell_type": "code",
   "execution_count": 49,
   "id": "048451a9",
   "metadata": {},
   "outputs": [
    {
     "name": "stdout",
     "output_type": "stream",
     "text": [
      "<class 'pandas.core.frame.DataFrame'>\n",
      "RangeIndex: 28 entries, 0 to 27\n",
      "Data columns (total 12 columns):\n",
      " #   Column                 Non-Null Count  Dtype \n",
      "---  ------                 --------------  ----- \n",
      " 0   index                  28 non-null     int64 \n",
      " 1   Date                   28 non-null     object\n",
      " 2   Week Day               28 non-null     object\n",
      " 3   Total Screen Time      28 non-null     int64 \n",
      " 4   Social Networking      28 non-null     int64 \n",
      " 5   Reading and Reference  28 non-null     int64 \n",
      " 6   Other                  28 non-null     int64 \n",
      " 7   Productivity           28 non-null     int64 \n",
      " 8   Health and Fitness     28 non-null     int64 \n",
      " 9   Entertainment          28 non-null     int64 \n",
      " 10  Creativity             28 non-null     int64 \n",
      " 11  Yoga                   28 non-null     int64 \n",
      "dtypes: int64(10), object(2)\n",
      "memory usage: 2.8+ KB\n"
     ]
    }
   ],
   "source": [
    "df.info()"
   ]
  },
  {
   "cell_type": "code",
   "execution_count": 50,
   "id": "c0ab3b06",
   "metadata": {},
   "outputs": [
    {
     "data": {
      "text/html": [
       "<div>\n",
       "<style scoped>\n",
       "    .dataframe tbody tr th:only-of-type {\n",
       "        vertical-align: middle;\n",
       "    }\n",
       "\n",
       "    .dataframe tbody tr th {\n",
       "        vertical-align: top;\n",
       "    }\n",
       "\n",
       "    .dataframe thead th {\n",
       "        text-align: right;\n",
       "    }\n",
       "</style>\n",
       "<table border=\"1\" class=\"dataframe\">\n",
       "  <thead>\n",
       "    <tr style=\"text-align: right;\">\n",
       "      <th></th>\n",
       "      <th>index</th>\n",
       "      <th>Total Screen Time</th>\n",
       "      <th>Social Networking</th>\n",
       "      <th>Reading and Reference</th>\n",
       "      <th>Other</th>\n",
       "      <th>Productivity</th>\n",
       "      <th>Health and Fitness</th>\n",
       "      <th>Entertainment</th>\n",
       "      <th>Creativity</th>\n",
       "      <th>Yoga</th>\n",
       "    </tr>\n",
       "  </thead>\n",
       "  <tbody>\n",
       "    <tr>\n",
       "      <th>count</th>\n",
       "      <td>28.000000</td>\n",
       "      <td>28.000000</td>\n",
       "      <td>28.000000</td>\n",
       "      <td>28.000000</td>\n",
       "      <td>28.000000</td>\n",
       "      <td>28.000000</td>\n",
       "      <td>28.000000</td>\n",
       "      <td>28.000000</td>\n",
       "      <td>28.000000</td>\n",
       "      <td>28.000000</td>\n",
       "    </tr>\n",
       "    <tr>\n",
       "      <th>mean</th>\n",
       "      <td>13.500000</td>\n",
       "      <td>113.250000</td>\n",
       "      <td>60.714286</td>\n",
       "      <td>8.714286</td>\n",
       "      <td>14.821429</td>\n",
       "      <td>9.071429</td>\n",
       "      <td>1.285714</td>\n",
       "      <td>1.821429</td>\n",
       "      <td>0.214286</td>\n",
       "      <td>0.571429</td>\n",
       "    </tr>\n",
       "    <tr>\n",
       "      <th>std</th>\n",
       "      <td>8.225975</td>\n",
       "      <td>43.562322</td>\n",
       "      <td>22.853571</td>\n",
       "      <td>9.340700</td>\n",
       "      <td>13.754605</td>\n",
       "      <td>6.097532</td>\n",
       "      <td>3.952094</td>\n",
       "      <td>6.188721</td>\n",
       "      <td>0.568112</td>\n",
       "      <td>0.503953</td>\n",
       "    </tr>\n",
       "    <tr>\n",
       "      <th>min</th>\n",
       "      <td>0.000000</td>\n",
       "      <td>52.000000</td>\n",
       "      <td>25.000000</td>\n",
       "      <td>0.000000</td>\n",
       "      <td>0.000000</td>\n",
       "      <td>2.000000</td>\n",
       "      <td>0.000000</td>\n",
       "      <td>0.000000</td>\n",
       "      <td>0.000000</td>\n",
       "      <td>0.000000</td>\n",
       "    </tr>\n",
       "    <tr>\n",
       "      <th>25%</th>\n",
       "      <td>6.750000</td>\n",
       "      <td>83.500000</td>\n",
       "      <td>41.750000</td>\n",
       "      <td>2.000000</td>\n",
       "      <td>4.750000</td>\n",
       "      <td>3.000000</td>\n",
       "      <td>0.000000</td>\n",
       "      <td>0.000000</td>\n",
       "      <td>0.000000</td>\n",
       "      <td>0.000000</td>\n",
       "    </tr>\n",
       "    <tr>\n",
       "      <th>50%</th>\n",
       "      <td>13.500000</td>\n",
       "      <td>111.000000</td>\n",
       "      <td>58.000000</td>\n",
       "      <td>5.000000</td>\n",
       "      <td>9.000000</td>\n",
       "      <td>8.000000</td>\n",
       "      <td>0.000000</td>\n",
       "      <td>0.000000</td>\n",
       "      <td>0.000000</td>\n",
       "      <td>1.000000</td>\n",
       "    </tr>\n",
       "    <tr>\n",
       "      <th>75%</th>\n",
       "      <td>20.250000</td>\n",
       "      <td>137.250000</td>\n",
       "      <td>76.500000</td>\n",
       "      <td>13.500000</td>\n",
       "      <td>21.500000</td>\n",
       "      <td>15.000000</td>\n",
       "      <td>0.000000</td>\n",
       "      <td>1.000000</td>\n",
       "      <td>0.000000</td>\n",
       "      <td>1.000000</td>\n",
       "    </tr>\n",
       "    <tr>\n",
       "      <th>max</th>\n",
       "      <td>27.000000</td>\n",
       "      <td>198.000000</td>\n",
       "      <td>109.000000</td>\n",
       "      <td>40.000000</td>\n",
       "      <td>43.000000</td>\n",
       "      <td>22.000000</td>\n",
       "      <td>15.000000</td>\n",
       "      <td>32.000000</td>\n",
       "      <td>2.000000</td>\n",
       "      <td>1.000000</td>\n",
       "    </tr>\n",
       "  </tbody>\n",
       "</table>\n",
       "</div>"
      ],
      "text/plain": [
       "           index  Total Screen Time   Social Networking  \\\n",
       "count  28.000000           28.000000          28.000000   \n",
       "mean   13.500000          113.250000          60.714286   \n",
       "std     8.225975           43.562322          22.853571   \n",
       "min     0.000000           52.000000          25.000000   \n",
       "25%     6.750000           83.500000          41.750000   \n",
       "50%    13.500000          111.000000          58.000000   \n",
       "75%    20.250000          137.250000          76.500000   \n",
       "max    27.000000          198.000000         109.000000   \n",
       "\n",
       "       Reading and Reference      Other  Productivity  Health and Fitness  \\\n",
       "count              28.000000  28.000000     28.000000           28.000000   \n",
       "mean                8.714286  14.821429      9.071429            1.285714   \n",
       "std                 9.340700  13.754605      6.097532            3.952094   \n",
       "min                 0.000000   0.000000      2.000000            0.000000   \n",
       "25%                 2.000000   4.750000      3.000000            0.000000   \n",
       "50%                 5.000000   9.000000      8.000000            0.000000   \n",
       "75%                13.500000  21.500000     15.000000            0.000000   \n",
       "max                40.000000  43.000000     22.000000           15.000000   \n",
       "\n",
       "       Entertainment  Creativity       Yoga  \n",
       "count      28.000000   28.000000  28.000000  \n",
       "mean        1.821429    0.214286   0.571429  \n",
       "std         6.188721    0.568112   0.503953  \n",
       "min         0.000000    0.000000   0.000000  \n",
       "25%         0.000000    0.000000   0.000000  \n",
       "50%         0.000000    0.000000   1.000000  \n",
       "75%         1.000000    0.000000   1.000000  \n",
       "max        32.000000    2.000000   1.000000  "
      ]
     },
     "execution_count": 50,
     "metadata": {},
     "output_type": "execute_result"
    }
   ],
   "source": [
    "df.describe()"
   ]
  },
  {
   "cell_type": "code",
   "execution_count": 56,
   "id": "17760497",
   "metadata": {},
   "outputs": [
    {
     "data": {
      "text/plain": [
       "False"
      ]
     },
     "execution_count": 56,
     "metadata": {},
     "output_type": "execute_result"
    }
   ],
   "source": [
    "df['Total Screen Time '].sum() == (df['Social Networking']+df['Reading and Reference']+df['Other']+df['Productivity']+df['Health and Fitness']+df['Entertainment']+df['Creativity']).sum()"
   ]
  },
  {
   "cell_type": "code",
   "execution_count": 57,
   "id": "04744863",
   "metadata": {},
   "outputs": [
    {
     "data": {
      "text/plain": [
       "Index(['index', 'Date', 'Week Day', 'Total Screen Time ', 'Social Networking',\n",
       "       'Reading and Reference', 'Other', 'Productivity', 'Health and Fitness',\n",
       "       'Entertainment', 'Creativity', 'Yoga'],\n",
       "      dtype='object')"
      ]
     },
     "execution_count": 57,
     "metadata": {},
     "output_type": "execute_result"
    }
   ],
   "source": [
    "df.columns"
   ]
  },
  {
   "cell_type": "code",
   "execution_count": 58,
   "id": "14d62351",
   "metadata": {},
   "outputs": [],
   "source": [
    "df['Total Screen Time'] = (df['Social Networking']+df['Reading and Reference']+df['Other']+df['Productivity']+df['Health and Fitness']+df['Entertainment']+df['Creativity']).sum()"
   ]
  },
  {
   "cell_type": "markdown",
   "id": "0f58faa2",
   "metadata": {},
   "source": [
    "# EDA"
   ]
  },
  {
   "cell_type": "code",
   "execution_count": 59,
   "id": "d168c200",
   "metadata": {},
   "outputs": [
    {
     "data": {
      "image/png": "[encoded data removed]",
      "text/plain": [
       "<Figure size 640x480 with 1 Axes>"
      ]
     },
     "metadata": {},
     "output_type": "display_data"
    }
   ],
   "source": [
    "df.plot(x='Date', y ='Total Screen Time ', color='purple')\n",
    "plt.show()"
   ]
  },
  {
   "cell_type": "markdown",
   "id": "1420e8f1",
   "metadata": {},
   "source": [
    "yoga practices started on 2019-04-29. It is possible to notice a downward trend from this date."
   ]
  },
  {
   "cell_type": "code",
   "execution_count": 61,
   "id": "7a2e4ba5",
   "metadata": {},
   "outputs": [],
   "source": [
    "data = df.drop(columns=['index', 'Date', 'Week Day'])"
   ]
  },
  {
   "cell_type": "code",
   "execution_count": 63,
   "id": "8b2bf86f",
   "metadata": {},
   "outputs": [
    {
     "data": {
      "text/plain": [
       "<Axes: >"
      ]
     },
     "execution_count": 63,
     "metadata": {},
     "output_type": "execute_result"
    },
    {
     "data": {
      "image/png": "[encoded data removed]",
      "text/plain": [
       "<Figure size 640x480 with 2 Axes>"
      ]
     },
     "metadata": {},
     "output_type": "display_data"
    }
   ],
   "source": [
    "corr_mat = data.corr()\n",
    "corr_mat\n",
    "sns.heatmap(corr_mat,annot=True)"
   ]
  },
  {
   "cell_type": "markdown",
   "id": "abf70235",
   "metadata": {},
   "source": [
    "As expected, we have a moderate negative correlation between daily yoga and total screen time and also, a weak positive correlation with creativity.\n",
    "\n",
    "In addiction, we have a strong positive correlation between total screen time and social networking, a moderate posite correlation between total screen time and productiviry and reading and reference."
   ]
  },
  {
   "cell_type": "code",
   "execution_count": 65,
   "id": "2563c1ae",
   "metadata": {},
   "outputs": [
    {
     "data": {
      "text/plain": [
       "Week Day\n",
       "Friday       562\n",
       "Monday       503\n",
       "Saturday     333\n",
       "Sunday       326\n",
       "Thursday     441\n",
       "Tuesday      435\n",
       "Wednesday    571\n",
       "Name: Total Screen Time , dtype: int64"
      ]
     },
     "execution_count": 65,
     "metadata": {},
     "output_type": "execute_result"
    }
   ],
   "source": [
    "df.groupby('Week Day')['Total Screen Time '].sum() "
   ]
  },
  {
   "cell_type": "code",
   "execution_count": 74,
   "id": "b3aa575d",
   "metadata": {},
   "outputs": [
    {
     "data": {
      "image/png": "[encoded data removed]",
      "text/plain": [
       "<Figure size 640x480 with 1 Axes>"
      ]
     },
     "metadata": {},
     "output_type": "display_data"
    }
   ],
   "source": [
    " plt.bar(df[\"Week Day\"],df[\"Total Screen Time \" ])\n",
    "plt.title(\"Screen view time by day of the week\")\n",
    "plt.show()"
   ]
  },
  {
   "cell_type": "code",
   "execution_count": 75,
   "id": "4eca4163",
   "metadata": {},
   "outputs": [
    {
     "data": {
      "text/plain": [
       "Yoga\n",
       "0    1512\n",
       "1    1659\n",
       "Name: Total Screen Time , dtype: int64"
      ]
     },
     "execution_count": 75,
     "metadata": {},
     "output_type": "execute_result"
    }
   ],
   "source": [
    "df.groupby('Yoga')['Total Screen Time '].sum()"
   ]
  },
  {
   "cell_type": "code",
   "execution_count": 79,
   "id": "9406aa99",
   "metadata": {},
   "outputs": [
    {
     "data": {
      "text/plain": [
       "count     12.000000\n",
       "mean     126.000000\n",
       "std       49.512166\n",
       "min       52.000000\n",
       "25%       97.000000\n",
       "50%      119.500000\n",
       "75%      165.250000\n",
       "max      198.000000\n",
       "Name: Total Screen Time , dtype: float64"
      ]
     },
     "execution_count": 79,
     "metadata": {},
     "output_type": "execute_result"
    }
   ],
   "source": [
    "df['Total Screen Time '].loc[df['Yoga']==0].describe()"
   ]
  },
  {
   "cell_type": "code",
   "execution_count": 80,
   "id": "37e4b337",
   "metadata": {},
   "outputs": [
    {
     "data": {
      "text/plain": [
       "count     16.000000\n",
       "mean     103.687500\n",
       "std       37.289353\n",
       "min       52.000000\n",
       "25%       74.500000\n",
       "50%      102.500000\n",
       "75%      128.500000\n",
       "max      170.000000\n",
       "Name: Total Screen Time , dtype: float64"
      ]
     },
     "execution_count": 80,
     "metadata": {},
     "output_type": "execute_result"
    }
   ],
   "source": [
    "df['Total Screen Time '].loc[df['Yoga']==1].describe()"
   ]
  },
  {
   "cell_type": "markdown",
   "id": "06263644",
   "metadata": {},
   "source": [
    "Without Yoga: The average screen time is 113.42 minutes.\n",
    "With Yoga: The average screen time is 84.06 minutes.\n",
    "Conclusion:\n",
    "On average, screen time is lower on yoga days. This suggests that yoga might have a positive effect in reducing screen time.\n"
   ]
  },
  {
   "cell_type": "code",
   "execution_count": 81,
   "id": "a191bf1a",
   "metadata": {},
   "outputs": [
    {
     "data": {
      "text/plain": [
       "<Axes: xlabel='Total Screen Time ', ylabel='Yoga'>"
      ]
     },
     "execution_count": 81,
     "metadata": {},
     "output_type": "execute_result"
    },
    {
     "data": {
      "image/png": "[encoded data removed]",
      "text/plain": [
       "<Figure size 640x480 with 1 Axes>"
      ]
     },
     "metadata": {},
     "output_type": "display_data"
    }
   ],
   "source": [
    "sns.boxplot(data=df, x='Total Screen Time ', y='Yoga', palette=\"flare\", saturation=0.85, orient=\"h\")"
   ]
  },
  {
   "cell_type": "code",
   "execution_count": 84,
   "id": "8e82a6b0",
   "metadata": {},
   "outputs": [
    {
     "data": {
      "image/png": "[encoded data removed]",
      "text/plain": [
       "<Figure size 640x480 with 1 Axes>"
      ]
     },
     "metadata": {},
     "output_type": "display_data"
    }
   ],
   "source": [
    "sns.boxplot(data=df, y='Social Networking', x='Yoga', palette=\"pastel\", saturation=0.85)\n",
    "plt.show()"
   ]
  },
  {
   "cell_type": "code",
   "execution_count": 85,
   "id": "41078340",
   "metadata": {},
   "outputs": [
    {
     "data": {
      "image/png": "[encoded data removed]",
      "text/plain": [
       "<Figure size 640x480 with 1 Axes>"
      ]
     },
     "metadata": {},
     "output_type": "display_data"
    }
   ],
   "source": [
    "sns.boxplot(data=df, y='Productivity', x='Yoga', palette=\"Pastel1\", saturation=0.85)\n",
    "plt.show()"
   ]
  },
  {
   "cell_type": "markdown",
   "id": "bce5cc2e",
   "metadata": {},
   "source": [
    "# Independent Two Sample t-Test\n",
    "Applying hypothesis test to confirm if the daily yoga impact screen time habits. We will analyze if two samples means are equal using the t-Test where:\n",
    "\n",
    "Ho: Daily yoga doesn’t impact\n",
    "\n",
    "\n",
    "HA: Daily yoga impact \n",
    "\n",
    "\n",
    "Ho: μd = 0\n",
    "\n",
    "HA: μd != 0"
   ]
  },
  {
   "cell_type": "code",
   "execution_count": 93,
   "id": "7c30e8f5",
   "metadata": {},
   "outputs": [],
   "source": [
    "from scipy.stats import ttest_ind"
   ]
  },
  {
   "cell_type": "code",
   "execution_count": 94,
   "id": "fe05f9ba",
   "metadata": {},
   "outputs": [],
   "source": [
    "screen_time_yoga = df['Total Screen Time '].loc[df['Yoga'] == 1]\n",
    "screen_time_no_yoga = df['Total Screen Time '].loc[df['Yoga'] == 0]"
   ]
  },
  {
   "cell_type": "code",
   "execution_count": 98,
   "id": "1fcaec36",
   "metadata": {},
   "outputs": [],
   "source": [
    "t_stat, p_value = ttest_ind(screen_time_yoga, screen_time_no_yoga) "
   ]
  },
  {
   "cell_type": "code",
   "execution_count": 99,
   "id": "6fbb1631",
   "metadata": {},
   "outputs": [
    {
     "name": "stdout",
     "output_type": "stream",
     "text": [
      "P-Value: 0.18477611347095468\n"
     ]
    }
   ],
   "source": [
    "print(\"P-Value:\", p_value)"
   ]
  },
  {
   "cell_type": "code",
   "execution_count": 100,
   "id": "8d2f5d65",
   "metadata": {},
   "outputs": [
    {
     "name": "stdout",
     "output_type": "stream",
     "text": [
      "There is no significant difference in screen time between yoga and non-yoga days.\n"
     ]
    }
   ],
   "source": [
    "if p_value < 0.05:\n",
    "    print(\"There is a significant difference in screen time between yoga and non-yoga days.\")\n",
    "else:\n",
    "    print(\"There is no significant difference in screen time between yoga and non-yoga days.\")"
   ]
  },
  {
   "cell_type": "code",
   "execution_count": null,
   "id": "e5d9dabe",
   "metadata": {},
   "outputs": [],
   "source": []
  }
 ],
 "metadata": {
  "kernelspec": {
   "display_name": "Python 3 (ipykernel)",
   "language": "python",
   "name": "python3"
  },
  "language_info": {
   "codemirror_mode": {
    "name": "ipython",
    "version": 3
   },
   "file_extension": ".py",
   "mimetype": "text/x-python",
   "name": "python",
   "nbconvert_exporter": "python",
   "pygments_lexer": "ipython3",
   "version": "3.11.5"
  }
 },
 "nbformat": 4,
 "nbformat_minor": 5
}
